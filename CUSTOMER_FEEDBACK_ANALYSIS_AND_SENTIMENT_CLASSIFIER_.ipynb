{
  "nbformat": 4,
  "nbformat_minor": 0,
  "metadata": {
    "colab": {
      "provenance": []
    },
    "kernelspec": {
      "name": "python3",
      "display_name": "Python 3"
    },
    "language_info": {
      "name": "python"
    }
  },
  "cells": [
    {
      "cell_type": "code",
      "execution_count": null,
      "metadata": {
        "id": "MQd09CFyRpgE"
      },
      "outputs": [],
      "source": [
        "# DEVELOP A PYTHON APPLICATION TO COLLECT , STORE, AND ANALYZE CUSTOMER FEEDBACK.THE PROJECT SHOULD PERFORM BASIC SENTIMENT ANALYSIS ON CUSTOMER\n",
        "# REVIEWS AND PROVIDE INSIGHTS USING PANDAS AND NUMPY."
      ]
    },
    {
      "cell_type": "code",
      "source": [
        "# FUNCTIONALITIES:\n",
        "\n",
        "# 1.OBJECT-ORIENTED DESIGN:\n",
        "\n",
        "# DESIGN CLASSES FOR CUSTOMER, REVIEW, SENTIMENT ANALYZER.\n",
        "# EACH CUSTOMER CAN LEAVE MULTIPLE REVIEWS FOR PRODUCTS.\n",
        "# USE OOP PRINCIPLES LIKE INHERITANCE AND POLYMORPHISM.\n",
        "\n",
        "# 2.FILE HANDLING:\n",
        "\n",
        "# STORE CUSTOMER INFORMATION AND REVIEWS IN A FILE (reviews.csv).\n",
        "# EACH ENTRY SHOULD CONTAIN DETAILS LIKE CUSTOMER ID,PRODUCT ID,REVIEW,DATE, AND RATING.\n",
        "# USE CSV OR JSON FILES  FOR STORAGE AND RETRIEVAL.\n",
        "\n",
        "# 3.SENTIMENT ANALYSIS USING DECORATORS:\n",
        "\n",
        "# IMPLEMENT A SIMPLE SENTIMENT ANALYSIS USING PYTHON'S TEXTBLOB OR NLTK TO\n",
        "# CLASSIFY REVIEWS AS POSITIVE, NEGATIVE, OR NEUTRAL.\n",
        "# USE A DECORATOR TO PREPROCESS THE REVIEWS (like lowercasing,removing punctuation) BEFORE PASSING THEM TO THE SENTIMENT ANALYZER.\n"
      ],
      "metadata": {
        "id": "gi7TuDqFVM4Y"
      },
      "execution_count": null,
      "outputs": []
    },
    {
      "cell_type": "code",
      "source": [],
      "metadata": {
        "id": "MXcud8tWXNLF"
      },
      "execution_count": null,
      "outputs": []
    },
    {
      "cell_type": "code",
      "source": [
        "import csv\n",
        "import string\n",
        "from datetime import datetime\n",
        "from textblob import TextBlob\n",
        "\n",
        "# Customer class to hold customer information and manage reviews\n",
        "class Customer:\n",
        "    def __init__(self, customer_id, name, email):\n",
        "        self.customer_id = customer_id\n",
        "        self.name = name\n",
        "        self.email = email\n",
        "        self.reviews = []  # Store all reviews made by the customer\n",
        "\n",
        "    def leave_review(self, product, rating, comment):\n",
        "        review = Review(self.customer_id, product.product_id, rating, comment)\n",
        "        review.save_to_file()\n",
        "        product.add_review(review)\n",
        "        self.reviews.append(review)\n",
        "        return review\n",
        "\n",
        "# Review class to store individual review details\n",
        "class Review:\n",
        "    def __init__(self, customer_id, product_id, rating, comment, date=None):\n",
        "        self.customer_id = customer_id\n",
        "        self.product_id = product_id\n",
        "        self.rating = rating\n",
        "        self.comment = comment\n",
        "        self.date = date if date else datetime.now().strftime(\"%Y-%m-%d %H:%M:%S\")\n",
        "\n",
        "    def save_to_file(self, filename='reviews.csv'):\n",
        "        \"\"\"Save the review to a CSV file.\"\"\"\n",
        "        with open(filename, mode='a', newline='') as file:\n",
        "            writer = csv.writer(file)\n",
        "            writer.writerow([self.customer_id, self.product_id, self.comment, self.date, self.rating])\n",
        "\n",
        "    @staticmethod\n",
        "    def load_from_file(filename='reviews.csv'):\n",
        "        \"\"\"Load reviews from a CSV file.\"\"\"\n",
        "        reviews = []\n",
        "        with open(filename, mode='r') as file:\n",
        "            reader = csv.reader(file)\n",
        "            for row in reader:\n",
        "                customer_id, product_id, comment, date, rating = row\n",
        "                reviews.append(Review(customer_id, product_id, rating, comment, date))\n",
        "        return reviews\n",
        "\n",
        "# Product class to store product information and manage reviews for products\n",
        "class Product:\n",
        "    def __init__(self, product_id, name, price):\n",
        "        self.product_id = product_id\n",
        "        self.name = name\n",
        "        self.price = price\n",
        "        self.reviews = []  # Store product reviews\n",
        "\n",
        "    def add_review(self, review):\n",
        "        self.reviews.append(review)\n",
        "\n",
        "# SentimentAnalyzer base class\n",
        "class SentimentAnalyzer:\n",
        "    def analyze_sentiment(self, review):\n",
        "        \"\"\"Analyze the sentiment of a review - to be implemented by subclasses.\"\"\"\n",
        "        raise NotImplementedError(\"Subclasses should implement this method.\")\n",
        "\n",
        "# Sentiment analysis decorator for preprocessing reviews\n",
        "def preprocess_review(func):\n",
        "    def wrapper(review):\n",
        "        review.comment = review.comment.lower().translate(str.maketrans('', '', string.punctuation))\n",
        "        return func(review)\n",
        "    return wrapper\n",
        "\n",
        "# Simple sentiment analyzer using TextBlob (inheritance & polymorphism)\n",
        "class TextBlobSentimentAnalyzer(SentimentAnalyzer):\n",
        "    @preprocess_review\n",
        "    def analyze_sentiment(self, review):\n",
        "        blob = TextBlob(review.comment)\n",
        "        polarity = blob.sentiment.polarity\n",
        "        if polarity > 0:\n",
        "            return \"Positive\"\n",
        "        elif polarity < 0:\n",
        "            return \"Negative\"\n",
        "        else:\n",
        "            return \"Neutral\"\n"
      ],
      "metadata": {
        "id": "kBmMw19YXNI7"
      },
      "execution_count": 19,
      "outputs": []
    },
    {
      "cell_type": "code",
      "source": [
        "from textblob import TextBlob\n",
        "\n",
        "# Reviews for testing sentiment analysis\n",
        "reviews = [\n",
        "    \"This product is amazing! I absolutely love it!\",  # Positive review\n",
        "    \"The product is okay, nothing special.\",           # Neutral review\n",
        "    \"I hate this product. It was a waste of money.\"    # Negative review\n",
        "]\n",
        "\n",
        "# Function to classify sentiment\n",
        "def classify_review(review_text):\n",
        "    blob = TextBlob(review_text)\n",
        "    polarity = blob.sentiment.polarity\n",
        "\n",
        "    # Classify sentiment based on polarity score\n",
        "    if polarity > 0:\n",
        "        return \"Positive\"\n",
        "    elif polarity < 0:\n",
        "        return \"Negative\"\n",
        "    else:\n",
        "        return \"Neutral\"\n",
        "\n",
        "# Test with sample reviews\n",
        "for review in reviews:\n",
        "    sentiment = classify_review(review)\n",
        "    print(f\"Review: \\\"{review}\\\" --> Sentiment: {sentiment}\")\n"
      ],
      "metadata": {
        "colab": {
          "base_uri": "https://localhost:8080/"
        },
        "id": "AwMLWds9ssmG",
        "outputId": "914934e9-97d5-4f38-abc5-21dd438a2ab0"
      },
      "execution_count": 20,
      "outputs": [
        {
          "output_type": "stream",
          "name": "stdout",
          "text": [
            "Review: \"This product is amazing! I absolutely love it!\" --> Sentiment: Positive\n",
            "Review: \"The product is okay, nothing special.\" --> Sentiment: Positive\n",
            "Review: \"I hate this product. It was a waste of money.\" --> Sentiment: Negative\n"
          ]
        }
      ]
    },
    {
      "cell_type": "code",
      "source": [
        "# PANDAS-BASED DATA ANALYSIS:\n",
        "\n",
        "# LOAD THE FEEDBACK DATA USING PANDAS.\n",
        "# GENERATE THE FOLLOWING INSIGHTS:\n",
        "# 1.OVERALL CUSTOMER SATISFACTION(BASED ON AVERAGE SENTIMENT SCORE).\n",
        "# 2. PRODUCT RATINGS BASED ON CUSTOMER FEEDBACK.\n",
        "# 3. FIND PRODUCTS WITH THE MOST POSITIVE AND NEGATIVE REVIEWS."
      ],
      "metadata": {
        "id": "H6ItJzays36o"
      },
      "execution_count": null,
      "outputs": []
    },
    {
      "cell_type": "code",
      "source": [
        "# Customer ID,Product ID,Review,Date,Rating\n",
        "1,101,\"Great product, I love it!\",\"2024-09-11\",5\n",
        "2,102,\"The product was okay.\",\"2024-09-11\",3\n",
        "3,101,\"Terrible product. Waste of money!\",\"2024-09-11\",1\n",
        "4,103,\"This is the best purchase I have made.\",\"2024-09-11\",5\n",
        "5,101,\"Not bad, but could be better.\",\"2024-09-11\",3\n"
      ],
      "metadata": {
        "colab": {
          "base_uri": "https://localhost:8080/"
        },
        "id": "tI3KLDCweIQt",
        "outputId": "64d94a4d-8e89-4bd9-e497-f9fdc70d1ab9"
      },
      "execution_count": 21,
      "outputs": [
        {
          "output_type": "execute_result",
          "data": {
            "text/plain": [
              "(5, 101, 'Not bad, but could be better.', '2024-09-11', 3)"
            ]
          },
          "metadata": {},
          "execution_count": 21
        }
      ]
    },
    {
      "cell_type": "code",
      "source": [
        "import pandas as pd\n",
        "from textblob import TextBlob\n",
        "\n",
        "# Load the review data from a CSV file\n",
        "def load_reviews_to_dataframe(filename='reviews.csv'):\n",
        "    \"\"\"Load reviews from CSV into a pandas DataFrame.\"\"\"\n",
        "    df = pd.read_csv(filename, names=['Customer ID', 'Product ID', 'Review', 'Date', 'Rating'])\n",
        "    return df\n",
        "\n",
        "# Function to classify the sentiment of a review using TextBlob\n",
        "def classify_sentiment(review):\n",
        "    blob = TextBlob(review)\n",
        "    polarity = blob.sentiment.polarity  # Polarity ranges from -1 (negative) to 1 (positive)\n",
        "    return polarity\n",
        "\n",
        "# Generate insights from the review data\n",
        "def generate_insights(df):\n",
        "    # 1. Overall Customer Satisfaction (average sentiment score)\n",
        "    df['Sentiment Score'] = df['Review'].apply(classify_sentiment)\n",
        "    overall_satisfaction = df['Sentiment Score'].mean()\n",
        "\n",
        "    # 2. Product Ratings Based on Customer Feedback (average rating per product)\n",
        "    product_ratings = df.groupby('Product ID')['Rating'].mean()\n",
        "\n",
        "    # 3. Find Products with the Most Positive and Negative Reviews\n",
        "    most_positive_product = df.groupby('Product ID')['Sentiment Score'].mean().idxmax()\n",
        "    most_negative_product = df.groupby('Product ID')['Sentiment Score'].mean().idxmin()\n",
        "\n",
        "    # Return results as a dictionary\n",
        "    return {\n",
        "        'Overall Customer Satisfaction': overall_satisfaction,\n",
        "        'Product Ratings': product_ratings,\n",
        "        'Most Positive Product': most_positive_product,\n",
        "        'Most Negative Product': most_negative_product\n",
        "    }\n",
        "\n",
        "# Load the data and generate insights\n",
        "df = load_reviews_to_dataframe('reviews.csv')\n",
        "insights = generate_insights(df)\n",
        "\n",
        "# Print the generated insights\n",
        "print(\"Overall Customer Satisfaction (Average Sentiment Score):\", insights['Overall Customer Satisfaction'])\n",
        "print(\"Product Ratings (Average Rating per Product):\")\n",
        "print(insights['Product Ratings'])\n",
        "print(\"Product with the Most Positive Reviews:\", insights['Most Positive Product'])\n",
        "print(\"Product with the Most Negative Reviews:\", insights['Most Negative Product'])\n"
      ],
      "metadata": {
        "colab": {
          "base_uri": "https://localhost:8080/"
        },
        "id": "xTPriHZFuIWm",
        "outputId": "6d9e95e2-00b6-4eae-eb1d-3ba49059e912"
      },
      "execution_count": 22,
      "outputs": [
        {
          "output_type": "stream",
          "name": "stdout",
          "text": [
            "Overall Customer Satisfaction (Average Sentiment Score): 1.0\n",
            "Product Ratings (Average Rating per Product):\n",
            "Product ID\n",
            "P001    5.0\n",
            "Name: Rating, dtype: float64\n",
            "Product with the Most Positive Reviews: P001\n",
            "Product with the Most Negative Reviews: P001\n"
          ]
        }
      ]
    },
    {
      "cell_type": "code",
      "source": [
        "# NUMPY-BASED CALCULATIONS:\n",
        "\n",
        "# USE NUMPY TO CALCULATE AVERAGE RATINGS FOER EACH PRODUCT.\n",
        "# USE NUMPY TO PERFORM STATISTICAL OPERATIONS(MEAN, MEDIAN, MODE) ON RATINGS AND SENTIMENT SCORES."
      ],
      "metadata": {
        "id": "QjEmeRPuuZSO"
      },
      "execution_count": null,
      "outputs": []
    },
    {
      "cell_type": "code",
      "source": [
        "import numpy as np\n",
        "\n",
        "def numpy_based_stats(df):\n",
        "    ratings = df['Rating'].values\n",
        "    mean_rating = np.mean(ratings)\n",
        "    median_rating = np.median(ratings)\n",
        "    mode_rating = pd.Series(ratings).mode().values[0]  # Using pandas mode for easier handling\n",
        "    return mean_rating, median_rating, mode_rating\n"
      ],
      "metadata": {
        "id": "BOPg_Eg2uZd-"
      },
      "execution_count": 23,
      "outputs": []
    },
    {
      "cell_type": "code",
      "source": [
        "# TESTING AND ERROR HANDLING:\n",
        "\n",
        "# WRITE UNIT TESTS FOR MAJOR COMPONENTS LIKE ADDING REVIEWS,SENTIMENT ANALYSIS, AND FEEDBACK STORAGE.\n",
        "# INCLUDE PROPER ERROR HANDLING(e.g.,handling empty reviews,invalid data formats)."
      ],
      "metadata": {
        "id": "wmxonvMBucgI"
      },
      "execution_count": null,
      "outputs": []
    },
    {
      "cell_type": "code",
      "source": [
        "import unittest\n",
        "\n",
        "class TestReviewSystem(unittest.TestCase):\n",
        "    def test_review_creation(self):\n",
        "        review = Review(1, 101, 5, \"Great product!\")\n",
        "        self.assertEqual(review.rating, 5)\n",
        "\n",
        "    def test_empty_review(self):\n",
        "        with self.assertRaises(ValueError):\n",
        "            Review(1, 101, 5, \"\")\n",
        "\n",
        "    def test_sentiment_analysis(self):\n",
        "        review = Review(1, 101, 5, \"Great product!\")\n",
        "        analyzer = TextBlobSentimentAnalyzer()\n",
        "        sentiment = analyzer.analyze_sentiment(review)\n",
        "        self.assertEqual(sentiment, \"Positive\")\n",
        "\n",
        "if __name__ == '__main__':\n",
        "    unittest.main()\n"
      ],
      "metadata": {
        "colab": {
          "base_uri": "https://localhost:8080/",
          "height": 317
        },
        "id": "cGEK2aGQudBg",
        "outputId": "82a2f854-29ac-4b75-8c88-96c4c6bfdeb2"
      },
      "execution_count": 24,
      "outputs": [
        {
          "output_type": "stream",
          "name": "stderr",
          "text": [
            "E\n",
            "======================================================================\n",
            "ERROR: /root/ (unittest.loader._FailedTest)\n",
            "----------------------------------------------------------------------\n",
            "AttributeError: module '__main__' has no attribute '/root/'\n",
            "\n",
            "----------------------------------------------------------------------\n",
            "Ran 1 test in 0.004s\n",
            "\n",
            "FAILED (errors=1)\n"
          ]
        },
        {
          "output_type": "error",
          "ename": "SystemExit",
          "evalue": "True",
          "traceback": [
            "An exception has occurred, use %tb to see the full traceback.\n",
            "\u001b[0;31mSystemExit\u001b[0m\u001b[0;31m:\u001b[0m True\n"
          ]
        },
        {
          "output_type": "stream",
          "name": "stderr",
          "text": [
            "/usr/local/lib/python3.10/dist-packages/IPython/core/interactiveshell.py:3561: UserWarning: To exit: use 'exit', 'quit', or Ctrl-D.\n",
            "  warn(\"To exit: use 'exit', 'quit', or Ctrl-D.\", stacklevel=1)\n"
          ]
        }
      ]
    }
  ]
}